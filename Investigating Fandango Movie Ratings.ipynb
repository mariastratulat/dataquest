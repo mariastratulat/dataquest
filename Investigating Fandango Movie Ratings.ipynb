{
 "cells": [
  {
   "cell_type": "markdown",
   "metadata": {
    "collapsed": true
   },
   "source": [
    "## The Investigation of the Fandango Movie Ratings\n",
    "\n",
    "### Introduction\n",
    "\n",
    "In October 2015, a data journalist named Walt Hickey analyzed movie ratings data and found strong evidence to suggest that Fandango's rating system was biased and dishonest ([Fandango](https://www.fandango.com/) is an online movie ratings aggregator). He published his analysis [in this article](He published his analysis).\n",
    "\n",
    "Fandango's officials replied that the biased rounding off was caused by a bug in their system rather than being intentional, and they promised to fix the bug as soon as possible. Presumably, this has already happened, although we can't tell for sure since the actual rating value doesn't seem to be displayed anymore in the pages' HTML.\n",
    "\n",
    "### Is Fandango Still Inflating Ratings?\n",
    "\n",
    "In this project, we'll analyze more recent movie ratings data to determine whether there has been any change in Fandango's rating system after Hickey's analysis."
   ]
  },
  {
   "cell_type": "markdown",
   "metadata": {},
   "source": [
    "### Understanding the data"
   ]
  },
  {
   "cell_type": "code",
   "execution_count": 43,
   "metadata": {},
   "outputs": [
    {
     "data": {
      "text/html": [
       "<div>\n",
       "<style scoped>\n",
       "    .dataframe tbody tr th:only-of-type {\n",
       "        vertical-align: middle;\n",
       "    }\n",
       "\n",
       "    .dataframe tbody tr th {\n",
       "        vertical-align: top;\n",
       "    }\n",
       "\n",
       "    .dataframe thead th {\n",
       "        text-align: right;\n",
       "    }\n",
       "</style>\n",
       "<table border=\"1\" class=\"dataframe\">\n",
       "  <thead>\n",
       "    <tr style=\"text-align: right;\">\n",
       "      <th></th>\n",
       "      <th>FILM</th>\n",
       "      <th>RottenTomatoes</th>\n",
       "      <th>RottenTomatoes_User</th>\n",
       "      <th>Metacritic</th>\n",
       "      <th>Metacritic_User</th>\n",
       "      <th>IMDB</th>\n",
       "      <th>Fandango_Stars</th>\n",
       "      <th>Fandango_Ratingvalue</th>\n",
       "      <th>RT_norm</th>\n",
       "      <th>RT_user_norm</th>\n",
       "      <th>Metacritic_norm</th>\n",
       "      <th>Metacritic_user_nom</th>\n",
       "      <th>IMDB_norm</th>\n",
       "      <th>RT_norm_round</th>\n",
       "      <th>RT_user_norm_round</th>\n",
       "      <th>Metacritic_norm_round</th>\n",
       "      <th>Metacritic_user_norm_round</th>\n",
       "      <th>IMDB_norm_round</th>\n",
       "      <th>Metacritic_user_vote_count</th>\n",
       "      <th>IMDB_user_vote_count</th>\n",
       "      <th>Fandango_votes</th>\n",
       "      <th>Fandango_Difference</th>\n",
       "    </tr>\n",
       "  </thead>\n",
       "  <tbody>\n",
       "    <tr>\n",
       "      <th>0</th>\n",
       "      <td>Avengers: Age of Ultron (2015)</td>\n",
       "      <td>74</td>\n",
       "      <td>86</td>\n",
       "      <td>66</td>\n",
       "      <td>7.1</td>\n",
       "      <td>7.8</td>\n",
       "      <td>5.0</td>\n",
       "      <td>4.5</td>\n",
       "      <td>3.70</td>\n",
       "      <td>4.3</td>\n",
       "      <td>3.30</td>\n",
       "      <td>3.55</td>\n",
       "      <td>3.90</td>\n",
       "      <td>3.5</td>\n",
       "      <td>4.5</td>\n",
       "      <td>3.5</td>\n",
       "      <td>3.5</td>\n",
       "      <td>4.0</td>\n",
       "      <td>1330</td>\n",
       "      <td>271107</td>\n",
       "      <td>14846</td>\n",
       "      <td>0.5</td>\n",
       "    </tr>\n",
       "    <tr>\n",
       "      <th>1</th>\n",
       "      <td>Cinderella (2015)</td>\n",
       "      <td>85</td>\n",
       "      <td>80</td>\n",
       "      <td>67</td>\n",
       "      <td>7.5</td>\n",
       "      <td>7.1</td>\n",
       "      <td>5.0</td>\n",
       "      <td>4.5</td>\n",
       "      <td>4.25</td>\n",
       "      <td>4.0</td>\n",
       "      <td>3.35</td>\n",
       "      <td>3.75</td>\n",
       "      <td>3.55</td>\n",
       "      <td>4.5</td>\n",
       "      <td>4.0</td>\n",
       "      <td>3.5</td>\n",
       "      <td>4.0</td>\n",
       "      <td>3.5</td>\n",
       "      <td>249</td>\n",
       "      <td>65709</td>\n",
       "      <td>12640</td>\n",
       "      <td>0.5</td>\n",
       "    </tr>\n",
       "    <tr>\n",
       "      <th>2</th>\n",
       "      <td>Ant-Man (2015)</td>\n",
       "      <td>80</td>\n",
       "      <td>90</td>\n",
       "      <td>64</td>\n",
       "      <td>8.1</td>\n",
       "      <td>7.8</td>\n",
       "      <td>5.0</td>\n",
       "      <td>4.5</td>\n",
       "      <td>4.00</td>\n",
       "      <td>4.5</td>\n",
       "      <td>3.20</td>\n",
       "      <td>4.05</td>\n",
       "      <td>3.90</td>\n",
       "      <td>4.0</td>\n",
       "      <td>4.5</td>\n",
       "      <td>3.0</td>\n",
       "      <td>4.0</td>\n",
       "      <td>4.0</td>\n",
       "      <td>627</td>\n",
       "      <td>103660</td>\n",
       "      <td>12055</td>\n",
       "      <td>0.5</td>\n",
       "    </tr>\n",
       "    <tr>\n",
       "      <th>3</th>\n",
       "      <td>Do You Believe? (2015)</td>\n",
       "      <td>18</td>\n",
       "      <td>84</td>\n",
       "      <td>22</td>\n",
       "      <td>4.7</td>\n",
       "      <td>5.4</td>\n",
       "      <td>5.0</td>\n",
       "      <td>4.5</td>\n",
       "      <td>0.90</td>\n",
       "      <td>4.2</td>\n",
       "      <td>1.10</td>\n",
       "      <td>2.35</td>\n",
       "      <td>2.70</td>\n",
       "      <td>1.0</td>\n",
       "      <td>4.0</td>\n",
       "      <td>1.0</td>\n",
       "      <td>2.5</td>\n",
       "      <td>2.5</td>\n",
       "      <td>31</td>\n",
       "      <td>3136</td>\n",
       "      <td>1793</td>\n",
       "      <td>0.5</td>\n",
       "    </tr>\n",
       "    <tr>\n",
       "      <th>4</th>\n",
       "      <td>Hot Tub Time Machine 2 (2015)</td>\n",
       "      <td>14</td>\n",
       "      <td>28</td>\n",
       "      <td>29</td>\n",
       "      <td>3.4</td>\n",
       "      <td>5.1</td>\n",
       "      <td>3.5</td>\n",
       "      <td>3.0</td>\n",
       "      <td>0.70</td>\n",
       "      <td>1.4</td>\n",
       "      <td>1.45</td>\n",
       "      <td>1.70</td>\n",
       "      <td>2.55</td>\n",
       "      <td>0.5</td>\n",
       "      <td>1.5</td>\n",
       "      <td>1.5</td>\n",
       "      <td>1.5</td>\n",
       "      <td>2.5</td>\n",
       "      <td>88</td>\n",
       "      <td>19560</td>\n",
       "      <td>1021</td>\n",
       "      <td>0.5</td>\n",
       "    </tr>\n",
       "  </tbody>\n",
       "</table>\n",
       "</div>"
      ],
      "text/plain": [
       "                             FILM  RottenTomatoes  RottenTomatoes_User  \\\n",
       "0  Avengers: Age of Ultron (2015)              74                   86   \n",
       "1               Cinderella (2015)              85                   80   \n",
       "2                  Ant-Man (2015)              80                   90   \n",
       "3          Do You Believe? (2015)              18                   84   \n",
       "4   Hot Tub Time Machine 2 (2015)              14                   28   \n",
       "\n",
       "   Metacritic  Metacritic_User  IMDB  Fandango_Stars  Fandango_Ratingvalue  \\\n",
       "0          66              7.1   7.8             5.0                   4.5   \n",
       "1          67              7.5   7.1             5.0                   4.5   \n",
       "2          64              8.1   7.8             5.0                   4.5   \n",
       "3          22              4.7   5.4             5.0                   4.5   \n",
       "4          29              3.4   5.1             3.5                   3.0   \n",
       "\n",
       "   RT_norm  RT_user_norm  Metacritic_norm  Metacritic_user_nom  IMDB_norm  \\\n",
       "0     3.70           4.3             3.30                 3.55       3.90   \n",
       "1     4.25           4.0             3.35                 3.75       3.55   \n",
       "2     4.00           4.5             3.20                 4.05       3.90   \n",
       "3     0.90           4.2             1.10                 2.35       2.70   \n",
       "4     0.70           1.4             1.45                 1.70       2.55   \n",
       "\n",
       "   RT_norm_round  RT_user_norm_round  Metacritic_norm_round  \\\n",
       "0            3.5                 4.5                    3.5   \n",
       "1            4.5                 4.0                    3.5   \n",
       "2            4.0                 4.5                    3.0   \n",
       "3            1.0                 4.0                    1.0   \n",
       "4            0.5                 1.5                    1.5   \n",
       "\n",
       "   Metacritic_user_norm_round  IMDB_norm_round  Metacritic_user_vote_count  \\\n",
       "0                         3.5              4.0                        1330   \n",
       "1                         4.0              3.5                         249   \n",
       "2                         4.0              4.0                         627   \n",
       "3                         2.5              2.5                          31   \n",
       "4                         1.5              2.5                          88   \n",
       "\n",
       "   IMDB_user_vote_count  Fandango_votes  Fandango_Difference  \n",
       "0                271107           14846                  0.5  \n",
       "1                 65709           12640                  0.5  \n",
       "2                103660           12055                  0.5  \n",
       "3                  3136            1793                  0.5  \n",
       "4                 19560            1021                  0.5  "
      ]
     },
     "execution_count": 43,
     "metadata": {},
     "output_type": "execute_result"
    }
   ],
   "source": [
    "import pandas as pd\n",
    "pd.options.display.max_columns = 100 #limiting displayed output\n",
    "\n",
    "pre_article = pd.read_csv('fandango_score_comparison.csv')\n",
    "post_article = pd.read_csv('movie_ratings_16_17.csv')\n",
    "\n",
    "pre_article.head()"
   ]
  },
  {
   "cell_type": "code",
   "execution_count": 44,
   "metadata": {},
   "outputs": [
    {
     "data": {
      "text/html": [
       "<div>\n",
       "<style scoped>\n",
       "    .dataframe tbody tr th:only-of-type {\n",
       "        vertical-align: middle;\n",
       "    }\n",
       "\n",
       "    .dataframe tbody tr th {\n",
       "        vertical-align: top;\n",
       "    }\n",
       "\n",
       "    .dataframe thead th {\n",
       "        text-align: right;\n",
       "    }\n",
       "</style>\n",
       "<table border=\"1\" class=\"dataframe\">\n",
       "  <thead>\n",
       "    <tr style=\"text-align: right;\">\n",
       "      <th></th>\n",
       "      <th>movie</th>\n",
       "      <th>year</th>\n",
       "      <th>metascore</th>\n",
       "      <th>imdb</th>\n",
       "      <th>tmeter</th>\n",
       "      <th>audience</th>\n",
       "      <th>fandango</th>\n",
       "      <th>n_metascore</th>\n",
       "      <th>n_imdb</th>\n",
       "      <th>n_tmeter</th>\n",
       "      <th>n_audience</th>\n",
       "      <th>nr_metascore</th>\n",
       "      <th>nr_imdb</th>\n",
       "      <th>nr_tmeter</th>\n",
       "      <th>nr_audience</th>\n",
       "    </tr>\n",
       "  </thead>\n",
       "  <tbody>\n",
       "    <tr>\n",
       "      <th>0</th>\n",
       "      <td>10 Cloverfield Lane</td>\n",
       "      <td>2016</td>\n",
       "      <td>76</td>\n",
       "      <td>7.2</td>\n",
       "      <td>90</td>\n",
       "      <td>79</td>\n",
       "      <td>3.5</td>\n",
       "      <td>3.80</td>\n",
       "      <td>3.60</td>\n",
       "      <td>4.50</td>\n",
       "      <td>3.95</td>\n",
       "      <td>4.0</td>\n",
       "      <td>3.5</td>\n",
       "      <td>4.5</td>\n",
       "      <td>4.0</td>\n",
       "    </tr>\n",
       "    <tr>\n",
       "      <th>1</th>\n",
       "      <td>13 Hours</td>\n",
       "      <td>2016</td>\n",
       "      <td>48</td>\n",
       "      <td>7.3</td>\n",
       "      <td>50</td>\n",
       "      <td>83</td>\n",
       "      <td>4.5</td>\n",
       "      <td>2.40</td>\n",
       "      <td>3.65</td>\n",
       "      <td>2.50</td>\n",
       "      <td>4.15</td>\n",
       "      <td>2.5</td>\n",
       "      <td>3.5</td>\n",
       "      <td>2.5</td>\n",
       "      <td>4.0</td>\n",
       "    </tr>\n",
       "    <tr>\n",
       "      <th>2</th>\n",
       "      <td>A Cure for Wellness</td>\n",
       "      <td>2016</td>\n",
       "      <td>47</td>\n",
       "      <td>6.6</td>\n",
       "      <td>40</td>\n",
       "      <td>47</td>\n",
       "      <td>3.0</td>\n",
       "      <td>2.35</td>\n",
       "      <td>3.30</td>\n",
       "      <td>2.00</td>\n",
       "      <td>2.35</td>\n",
       "      <td>2.5</td>\n",
       "      <td>3.5</td>\n",
       "      <td>2.0</td>\n",
       "      <td>2.5</td>\n",
       "    </tr>\n",
       "    <tr>\n",
       "      <th>3</th>\n",
       "      <td>A Dog's Purpose</td>\n",
       "      <td>2017</td>\n",
       "      <td>43</td>\n",
       "      <td>5.2</td>\n",
       "      <td>33</td>\n",
       "      <td>76</td>\n",
       "      <td>4.5</td>\n",
       "      <td>2.15</td>\n",
       "      <td>2.60</td>\n",
       "      <td>1.65</td>\n",
       "      <td>3.80</td>\n",
       "      <td>2.0</td>\n",
       "      <td>2.5</td>\n",
       "      <td>1.5</td>\n",
       "      <td>4.0</td>\n",
       "    </tr>\n",
       "    <tr>\n",
       "      <th>4</th>\n",
       "      <td>A Hologram for the King</td>\n",
       "      <td>2016</td>\n",
       "      <td>58</td>\n",
       "      <td>6.1</td>\n",
       "      <td>70</td>\n",
       "      <td>57</td>\n",
       "      <td>3.0</td>\n",
       "      <td>2.90</td>\n",
       "      <td>3.05</td>\n",
       "      <td>3.50</td>\n",
       "      <td>2.85</td>\n",
       "      <td>3.0</td>\n",
       "      <td>3.0</td>\n",
       "      <td>3.5</td>\n",
       "      <td>3.0</td>\n",
       "    </tr>\n",
       "  </tbody>\n",
       "</table>\n",
       "</div>"
      ],
      "text/plain": [
       "                     movie  year  metascore  imdb  tmeter  audience  fandango  \\\n",
       "0      10 Cloverfield Lane  2016         76   7.2      90        79       3.5   \n",
       "1                 13 Hours  2016         48   7.3      50        83       4.5   \n",
       "2      A Cure for Wellness  2016         47   6.6      40        47       3.0   \n",
       "3          A Dog's Purpose  2017         43   5.2      33        76       4.5   \n",
       "4  A Hologram for the King  2016         58   6.1      70        57       3.0   \n",
       "\n",
       "   n_metascore  n_imdb  n_tmeter  n_audience  nr_metascore  nr_imdb  \\\n",
       "0         3.80    3.60      4.50        3.95           4.0      3.5   \n",
       "1         2.40    3.65      2.50        4.15           2.5      3.5   \n",
       "2         2.35    3.30      2.00        2.35           2.5      3.5   \n",
       "3         2.15    2.60      1.65        3.80           2.0      2.5   \n",
       "4         2.90    3.05      3.50        2.85           3.0      3.0   \n",
       "\n",
       "   nr_tmeter  nr_audience  \n",
       "0        4.5          4.0  \n",
       "1        2.5          4.0  \n",
       "2        2.0          2.5  \n",
       "3        1.5          4.0  \n",
       "4        3.5          3.0  "
      ]
     },
     "execution_count": 44,
     "metadata": {},
     "output_type": "execute_result"
    }
   ],
   "source": [
    "post_article.head()"
   ]
  },
  {
   "cell_type": "markdown",
   "metadata": {},
   "source": [
    "Bellow, we isolate only the columns that provide Fandango ratings information so we have the data we are interested in."
   ]
  },
  {
   "cell_type": "code",
   "execution_count": 45,
   "metadata": {},
   "outputs": [
    {
     "data": {
      "text/html": [
       "<div>\n",
       "<style scoped>\n",
       "    .dataframe tbody tr th:only-of-type {\n",
       "        vertical-align: middle;\n",
       "    }\n",
       "\n",
       "    .dataframe tbody tr th {\n",
       "        vertical-align: top;\n",
       "    }\n",
       "\n",
       "    .dataframe thead th {\n",
       "        text-align: right;\n",
       "    }\n",
       "</style>\n",
       "<table border=\"1\" class=\"dataframe\">\n",
       "  <thead>\n",
       "    <tr style=\"text-align: right;\">\n",
       "      <th></th>\n",
       "      <th>FILM</th>\n",
       "      <th>Fandango_Stars</th>\n",
       "      <th>Fandango_Ratingvalue</th>\n",
       "      <th>Fandango_votes</th>\n",
       "      <th>Fandango_Difference</th>\n",
       "    </tr>\n",
       "  </thead>\n",
       "  <tbody>\n",
       "    <tr>\n",
       "      <th>0</th>\n",
       "      <td>Avengers: Age of Ultron (2015)</td>\n",
       "      <td>5.0</td>\n",
       "      <td>4.5</td>\n",
       "      <td>14846</td>\n",
       "      <td>0.5</td>\n",
       "    </tr>\n",
       "    <tr>\n",
       "      <th>1</th>\n",
       "      <td>Cinderella (2015)</td>\n",
       "      <td>5.0</td>\n",
       "      <td>4.5</td>\n",
       "      <td>12640</td>\n",
       "      <td>0.5</td>\n",
       "    </tr>\n",
       "    <tr>\n",
       "      <th>2</th>\n",
       "      <td>Ant-Man (2015)</td>\n",
       "      <td>5.0</td>\n",
       "      <td>4.5</td>\n",
       "      <td>12055</td>\n",
       "      <td>0.5</td>\n",
       "    </tr>\n",
       "    <tr>\n",
       "      <th>3</th>\n",
       "      <td>Do You Believe? (2015)</td>\n",
       "      <td>5.0</td>\n",
       "      <td>4.5</td>\n",
       "      <td>1793</td>\n",
       "      <td>0.5</td>\n",
       "    </tr>\n",
       "    <tr>\n",
       "      <th>4</th>\n",
       "      <td>Hot Tub Time Machine 2 (2015)</td>\n",
       "      <td>3.5</td>\n",
       "      <td>3.0</td>\n",
       "      <td>1021</td>\n",
       "      <td>0.5</td>\n",
       "    </tr>\n",
       "  </tbody>\n",
       "</table>\n",
       "</div>"
      ],
      "text/plain": [
       "                             FILM  Fandango_Stars  Fandango_Ratingvalue  \\\n",
       "0  Avengers: Age of Ultron (2015)             5.0                   4.5   \n",
       "1               Cinderella (2015)             5.0                   4.5   \n",
       "2                  Ant-Man (2015)             5.0                   4.5   \n",
       "3          Do You Believe? (2015)             5.0                   4.5   \n",
       "4   Hot Tub Time Machine 2 (2015)             3.5                   3.0   \n",
       "\n",
       "   Fandango_votes  Fandango_Difference  \n",
       "0           14846                  0.5  \n",
       "1           12640                  0.5  \n",
       "2           12055                  0.5  \n",
       "3            1793                  0.5  \n",
       "4            1021                  0.5  "
      ]
     },
     "execution_count": 45,
     "metadata": {},
     "output_type": "execute_result"
    }
   ],
   "source": [
    "fandango_pre = pre_article[['FILM', 'Fandango_Stars', 'Fandango_Ratingvalue', 'Fandango_votes', 'Fandango_Difference']].copy()\n",
    "fandango_post = post_article[['movie', 'year', 'fandango']].copy()\n",
    "\n",
    "fandango_pre.head()"
   ]
  },
  {
   "cell_type": "code",
   "execution_count": 46,
   "metadata": {},
   "outputs": [
    {
     "data": {
      "text/html": [
       "<div>\n",
       "<style scoped>\n",
       "    .dataframe tbody tr th:only-of-type {\n",
       "        vertical-align: middle;\n",
       "    }\n",
       "\n",
       "    .dataframe tbody tr th {\n",
       "        vertical-align: top;\n",
       "    }\n",
       "\n",
       "    .dataframe thead th {\n",
       "        text-align: right;\n",
       "    }\n",
       "</style>\n",
       "<table border=\"1\" class=\"dataframe\">\n",
       "  <thead>\n",
       "    <tr style=\"text-align: right;\">\n",
       "      <th></th>\n",
       "      <th>movie</th>\n",
       "      <th>year</th>\n",
       "      <th>fandango</th>\n",
       "    </tr>\n",
       "  </thead>\n",
       "  <tbody>\n",
       "    <tr>\n",
       "      <th>0</th>\n",
       "      <td>10 Cloverfield Lane</td>\n",
       "      <td>2016</td>\n",
       "      <td>3.5</td>\n",
       "    </tr>\n",
       "    <tr>\n",
       "      <th>1</th>\n",
       "      <td>13 Hours</td>\n",
       "      <td>2016</td>\n",
       "      <td>4.5</td>\n",
       "    </tr>\n",
       "    <tr>\n",
       "      <th>2</th>\n",
       "      <td>A Cure for Wellness</td>\n",
       "      <td>2016</td>\n",
       "      <td>3.0</td>\n",
       "    </tr>\n",
       "    <tr>\n",
       "      <th>3</th>\n",
       "      <td>A Dog's Purpose</td>\n",
       "      <td>2017</td>\n",
       "      <td>4.5</td>\n",
       "    </tr>\n",
       "    <tr>\n",
       "      <th>4</th>\n",
       "      <td>A Hologram for the King</td>\n",
       "      <td>2016</td>\n",
       "      <td>3.0</td>\n",
       "    </tr>\n",
       "  </tbody>\n",
       "</table>\n",
       "</div>"
      ],
      "text/plain": [
       "                     movie  year  fandango\n",
       "0      10 Cloverfield Lane  2016       3.5\n",
       "1                 13 Hours  2016       4.5\n",
       "2      A Cure for Wellness  2016       3.0\n",
       "3          A Dog's Purpose  2017       4.5\n",
       "4  A Hologram for the King  2016       3.0"
      ]
     },
     "execution_count": 46,
     "metadata": {},
     "output_type": "execute_result"
    }
   ],
   "source": [
    "fandango_post.head()"
   ]
  },
  {
   "cell_type": "markdown",
   "metadata": {},
   "source": [
    "Because we want to find out whether the parameters of the population have changed after the Hickey's investigation, we are interested in sampling from two periods of time - before and after the investigation - so we can compare the two sets.\n",
    "\n",
    "We want to describe the population, so we need to make sure the samples are representative, otherwise, we should expect big sampling error and false conclusions.\n",
    "\n",
    "From Hickey's article and from README.md on [data set repository](https://github.com/fivethirtyeight/data/tree/master/fandango), for sampling the data were used the following criteria:\n",
    "- the movies must have had at least 30 fan ratings on the Fandango website at the time of sampling.\n",
    "- the movies must have had tickets on sale in 2015.\n",
    "\n",
    "The sampling was clearly not objective because not all the movies had the chance to be included, like those with the number of ratings lower than 30. Furthermore, movies from 2015 might have been outstandingly good or bad compared to other years.\n",
    "\n",
    "The sampling criteria for our other dataset, as described in [dataset repository](https://github.com/mircealex/Movie_ratings_2016_17):\n",
    "- the movies must have released in 2016 and 2017.\n",
    "- the movies must have a \"significant number of votes\" (unclear how many votes).\n",
    "\n",
    "While these two samples were good enough for the authors' research, they might not be representative of our investigation because they are both subjects of temporal trends."
   ]
  },
  {
   "cell_type": "markdown",
   "metadata": {},
   "source": [
    "### Changing the Goal of our Analysis\n",
    "\n",
    "At this point, we have at least two alternatives: either we collect new data, either we change the goal of our analysis by placing some limitations on it.\n",
    "\n",
    "Changing our goal seems a much faster choice compared to collecting new data and the new goal is still a fairly good proxy for our initial goal.\n",
    "\n",
    "Our new goal is to determine whether there's any difference between Fandango's ratings for popular movies in 2015 and Fandango's ratings for popular movies in 2016."
   ]
  },
  {
   "cell_type": "markdown",
   "metadata": {},
   "source": [
    "### Isolating the Samples We Need\n",
    "\n",
    "With this new research goal, we have two populations of interest:\n",
    "1. All Fandango's ratings for popular movies released in 2015.\n",
    "2. All Fandango's ratings for popular movies released in 2016.\n",
    "\n",
    "We'll define \"popular\" as being a movie with a number of 30 or more ratings (using Hickey's criteria). However, is this criteria representative for the second dataset? Let's check by randomly sampling 10 movies.\n",
    "\n"
   ]
  },
  {
   "cell_type": "code",
   "execution_count": 47,
   "metadata": {},
   "outputs": [
    {
     "data": {
      "text/html": [
       "<div>\n",
       "<style scoped>\n",
       "    .dataframe tbody tr th:only-of-type {\n",
       "        vertical-align: middle;\n",
       "    }\n",
       "\n",
       "    .dataframe tbody tr th {\n",
       "        vertical-align: top;\n",
       "    }\n",
       "\n",
       "    .dataframe thead th {\n",
       "        text-align: right;\n",
       "    }\n",
       "</style>\n",
       "<table border=\"1\" class=\"dataframe\">\n",
       "  <thead>\n",
       "    <tr style=\"text-align: right;\">\n",
       "      <th></th>\n",
       "      <th>movie</th>\n",
       "      <th>year</th>\n",
       "      <th>fandango</th>\n",
       "    </tr>\n",
       "  </thead>\n",
       "  <tbody>\n",
       "    <tr>\n",
       "      <th>108</th>\n",
       "      <td>Mechanic: Resurrection</td>\n",
       "      <td>2016</td>\n",
       "      <td>4.0</td>\n",
       "    </tr>\n",
       "    <tr>\n",
       "      <th>206</th>\n",
       "      <td>Warcraft</td>\n",
       "      <td>2016</td>\n",
       "      <td>4.0</td>\n",
       "    </tr>\n",
       "    <tr>\n",
       "      <th>106</th>\n",
       "      <td>Max Steel</td>\n",
       "      <td>2016</td>\n",
       "      <td>3.5</td>\n",
       "    </tr>\n",
       "    <tr>\n",
       "      <th>107</th>\n",
       "      <td>Me Before You</td>\n",
       "      <td>2016</td>\n",
       "      <td>4.5</td>\n",
       "    </tr>\n",
       "    <tr>\n",
       "      <th>51</th>\n",
       "      <td>Fantastic Beasts and Where to Find Them</td>\n",
       "      <td>2016</td>\n",
       "      <td>4.5</td>\n",
       "    </tr>\n",
       "    <tr>\n",
       "      <th>33</th>\n",
       "      <td>Cell</td>\n",
       "      <td>2016</td>\n",
       "      <td>3.0</td>\n",
       "    </tr>\n",
       "    <tr>\n",
       "      <th>59</th>\n",
       "      <td>Genius</td>\n",
       "      <td>2016</td>\n",
       "      <td>3.5</td>\n",
       "    </tr>\n",
       "    <tr>\n",
       "      <th>152</th>\n",
       "      <td>Sully</td>\n",
       "      <td>2016</td>\n",
       "      <td>4.5</td>\n",
       "    </tr>\n",
       "    <tr>\n",
       "      <th>4</th>\n",
       "      <td>A Hologram for the King</td>\n",
       "      <td>2016</td>\n",
       "      <td>3.0</td>\n",
       "    </tr>\n",
       "    <tr>\n",
       "      <th>31</th>\n",
       "      <td>Captain America: Civil War</td>\n",
       "      <td>2016</td>\n",
       "      <td>4.5</td>\n",
       "    </tr>\n",
       "  </tbody>\n",
       "</table>\n",
       "</div>"
      ],
      "text/plain": [
       "                                       movie  year  fandango\n",
       "108                   Mechanic: Resurrection  2016       4.0\n",
       "206                                 Warcraft  2016       4.0\n",
       "106                                Max Steel  2016       3.5\n",
       "107                            Me Before You  2016       4.5\n",
       "51   Fantastic Beasts and Where to Find Them  2016       4.5\n",
       "33                                      Cell  2016       3.0\n",
       "59                                    Genius  2016       3.5\n",
       "152                                    Sully  2016       4.5\n",
       "4                    A Hologram for the King  2016       3.0\n",
       "31                Captain America: Civil War  2016       4.5"
      ]
     },
     "execution_count": 47,
     "metadata": {},
     "output_type": "execute_result"
    }
   ],
   "source": [
    "fandango_post.sample(10, random_state=1)"
   ]
  },
  {
   "cell_type": "code",
   "execution_count": 48,
   "metadata": {},
   "outputs": [],
   "source": [
    "movies_check = fandango_post.sample(10, random_state=1)"
   ]
  },
  {
   "cell_type": "markdown",
   "metadata": {},
   "source": [
    "As of April 2018, these were the fan ratings found:\n",
    "<img src=\"fan_ratings.png\">\n",
    "90% of the movies in our sample are popular. This is enough and we move forward in our study.\n",
    "\n",
    "Let's double-check the other data set for popular movies.\n"
   ]
  },
  {
   "cell_type": "code",
   "execution_count": 49,
   "metadata": {},
   "outputs": [
    {
     "data": {
      "text/plain": [
       "0"
      ]
     },
     "execution_count": 49,
     "metadata": {},
     "output_type": "execute_result"
    }
   ],
   "source": [
    "sum(fandango_pre['Fandango_votes'] < 30)"
   ]
  },
  {
   "cell_type": "markdown",
   "metadata": {},
   "source": [
    "For our purposes, we'll need to isolate only the movies in 2015 and 2016."
   ]
  },
  {
   "cell_type": "code",
   "execution_count": 50,
   "metadata": {},
   "outputs": [
    {
     "data": {
      "text/html": [
       "<div>\n",
       "<style scoped>\n",
       "    .dataframe tbody tr th:only-of-type {\n",
       "        vertical-align: middle;\n",
       "    }\n",
       "\n",
       "    .dataframe tbody tr th {\n",
       "        vertical-align: top;\n",
       "    }\n",
       "\n",
       "    .dataframe thead th {\n",
       "        text-align: right;\n",
       "    }\n",
       "</style>\n",
       "<table border=\"1\" class=\"dataframe\">\n",
       "  <thead>\n",
       "    <tr style=\"text-align: right;\">\n",
       "      <th></th>\n",
       "      <th>FILM</th>\n",
       "      <th>Fandango_Stars</th>\n",
       "      <th>Fandango_Ratingvalue</th>\n",
       "      <th>Fandango_votes</th>\n",
       "      <th>Fandango_Difference</th>\n",
       "    </tr>\n",
       "  </thead>\n",
       "  <tbody>\n",
       "    <tr>\n",
       "      <th>0</th>\n",
       "      <td>Avengers: Age of Ultron (2015)</td>\n",
       "      <td>5.0</td>\n",
       "      <td>4.5</td>\n",
       "      <td>14846</td>\n",
       "      <td>0.5</td>\n",
       "    </tr>\n",
       "    <tr>\n",
       "      <th>1</th>\n",
       "      <td>Cinderella (2015)</td>\n",
       "      <td>5.0</td>\n",
       "      <td>4.5</td>\n",
       "      <td>12640</td>\n",
       "      <td>0.5</td>\n",
       "    </tr>\n",
       "    <tr>\n",
       "      <th>2</th>\n",
       "      <td>Ant-Man (2015)</td>\n",
       "      <td>5.0</td>\n",
       "      <td>4.5</td>\n",
       "      <td>12055</td>\n",
       "      <td>0.5</td>\n",
       "    </tr>\n",
       "    <tr>\n",
       "      <th>3</th>\n",
       "      <td>Do You Believe? (2015)</td>\n",
       "      <td>5.0</td>\n",
       "      <td>4.5</td>\n",
       "      <td>1793</td>\n",
       "      <td>0.5</td>\n",
       "    </tr>\n",
       "    <tr>\n",
       "      <th>4</th>\n",
       "      <td>Hot Tub Time Machine 2 (2015)</td>\n",
       "      <td>3.5</td>\n",
       "      <td>3.0</td>\n",
       "      <td>1021</td>\n",
       "      <td>0.5</td>\n",
       "    </tr>\n",
       "  </tbody>\n",
       "</table>\n",
       "</div>"
      ],
      "text/plain": [
       "                             FILM  Fandango_Stars  Fandango_Ratingvalue  \\\n",
       "0  Avengers: Age of Ultron (2015)             5.0                   4.5   \n",
       "1               Cinderella (2015)             5.0                   4.5   \n",
       "2                  Ant-Man (2015)             5.0                   4.5   \n",
       "3          Do You Believe? (2015)             5.0                   4.5   \n",
       "4   Hot Tub Time Machine 2 (2015)             3.5                   3.0   \n",
       "\n",
       "   Fandango_votes  Fandango_Difference  \n",
       "0           14846                  0.5  \n",
       "1           12640                  0.5  \n",
       "2           12055                  0.5  \n",
       "3            1793                  0.5  \n",
       "4            1021                  0.5  "
      ]
     },
     "execution_count": 50,
     "metadata": {},
     "output_type": "execute_result"
    }
   ],
   "source": [
    "fandango_pre.head()"
   ]
  },
  {
   "cell_type": "code",
   "execution_count": 51,
   "metadata": {},
   "outputs": [
    {
     "data": {
      "text/html": [
       "<div>\n",
       "<style scoped>\n",
       "    .dataframe tbody tr th:only-of-type {\n",
       "        vertical-align: middle;\n",
       "    }\n",
       "\n",
       "    .dataframe tbody tr th {\n",
       "        vertical-align: top;\n",
       "    }\n",
       "\n",
       "    .dataframe thead th {\n",
       "        text-align: right;\n",
       "    }\n",
       "</style>\n",
       "<table border=\"1\" class=\"dataframe\">\n",
       "  <thead>\n",
       "    <tr style=\"text-align: right;\">\n",
       "      <th></th>\n",
       "      <th>FILM</th>\n",
       "      <th>Fandango_Stars</th>\n",
       "      <th>Fandango_Ratingvalue</th>\n",
       "      <th>Fandango_votes</th>\n",
       "      <th>Fandango_Difference</th>\n",
       "      <th>Year</th>\n",
       "    </tr>\n",
       "  </thead>\n",
       "  <tbody>\n",
       "    <tr>\n",
       "      <th>0</th>\n",
       "      <td>Avengers: Age of Ultron (2015)</td>\n",
       "      <td>5.0</td>\n",
       "      <td>4.5</td>\n",
       "      <td>14846</td>\n",
       "      <td>0.5</td>\n",
       "      <td>2015</td>\n",
       "    </tr>\n",
       "    <tr>\n",
       "      <th>1</th>\n",
       "      <td>Cinderella (2015)</td>\n",
       "      <td>5.0</td>\n",
       "      <td>4.5</td>\n",
       "      <td>12640</td>\n",
       "      <td>0.5</td>\n",
       "      <td>2015</td>\n",
       "    </tr>\n",
       "    <tr>\n",
       "      <th>2</th>\n",
       "      <td>Ant-Man (2015)</td>\n",
       "      <td>5.0</td>\n",
       "      <td>4.5</td>\n",
       "      <td>12055</td>\n",
       "      <td>0.5</td>\n",
       "      <td>2015</td>\n",
       "    </tr>\n",
       "    <tr>\n",
       "      <th>3</th>\n",
       "      <td>Do You Believe? (2015)</td>\n",
       "      <td>5.0</td>\n",
       "      <td>4.5</td>\n",
       "      <td>1793</td>\n",
       "      <td>0.5</td>\n",
       "      <td>2015</td>\n",
       "    </tr>\n",
       "    <tr>\n",
       "      <th>4</th>\n",
       "      <td>Hot Tub Time Machine 2 (2015)</td>\n",
       "      <td>3.5</td>\n",
       "      <td>3.0</td>\n",
       "      <td>1021</td>\n",
       "      <td>0.5</td>\n",
       "      <td>2015</td>\n",
       "    </tr>\n",
       "  </tbody>\n",
       "</table>\n",
       "</div>"
      ],
      "text/plain": [
       "                             FILM  Fandango_Stars  Fandango_Ratingvalue  \\\n",
       "0  Avengers: Age of Ultron (2015)             5.0                   4.5   \n",
       "1               Cinderella (2015)             5.0                   4.5   \n",
       "2                  Ant-Man (2015)             5.0                   4.5   \n",
       "3          Do You Believe? (2015)             5.0                   4.5   \n",
       "4   Hot Tub Time Machine 2 (2015)             3.5                   3.0   \n",
       "\n",
       "   Fandango_votes  Fandango_Difference  Year  \n",
       "0           14846                  0.5  2015  \n",
       "1           12640                  0.5  2015  \n",
       "2           12055                  0.5  2015  \n",
       "3            1793                  0.5  2015  \n",
       "4            1021                  0.5  2015  "
      ]
     },
     "execution_count": 51,
     "metadata": {},
     "output_type": "execute_result"
    }
   ],
   "source": [
    "fandango_pre['Year'] = fandango_pre['FILM'].str[-5:-1]\n",
    "fandango_pre.head()"
   ]
  },
  {
   "cell_type": "code",
   "execution_count": 52,
   "metadata": {},
   "outputs": [
    {
     "data": {
      "text/plain": [
       "2015    129\n",
       "2014     17\n",
       "Name: Year, dtype: int64"
      ]
     },
     "execution_count": 52,
     "metadata": {},
     "output_type": "execute_result"
    }
   ],
   "source": [
    "fandango_pre['Year'].value_counts()"
   ]
  },
  {
   "cell_type": "code",
   "execution_count": 53,
   "metadata": {},
   "outputs": [
    {
     "data": {
      "text/plain": [
       "2015    129\n",
       "Name: Year, dtype: int64"
      ]
     },
     "execution_count": 53,
     "metadata": {},
     "output_type": "execute_result"
    }
   ],
   "source": [
    "fandango_2015 = fandango_pre[fandango_pre['Year'] =='2015'].copy()\n",
    "fandango_2015['Year'].value_counts()"
   ]
  },
  {
   "cell_type": "markdown",
   "metadata": {},
   "source": [
    "We have the first data set, movies from 2015. Let's isolate the 2016 data set."
   ]
  },
  {
   "cell_type": "code",
   "execution_count": 54,
   "metadata": {},
   "outputs": [
    {
     "data": {
      "text/plain": [
       "2016    191\n",
       "2017     23\n",
       "Name: year, dtype: int64"
      ]
     },
     "execution_count": 54,
     "metadata": {},
     "output_type": "execute_result"
    }
   ],
   "source": [
    "fandango_post['year'].value_counts()"
   ]
  },
  {
   "cell_type": "code",
   "execution_count": 55,
   "metadata": {},
   "outputs": [
    {
     "data": {
      "text/plain": [
       "2016    191\n",
       "Name: year, dtype: int64"
      ]
     },
     "execution_count": 55,
     "metadata": {},
     "output_type": "execute_result"
    }
   ],
   "source": [
    "fandango_2016 = fandango_post[fandango_post['year'] == 2016].copy()\n",
    "fandango_2016['year'].value_counts()"
   ]
  },
  {
   "cell_type": "markdown",
   "metadata": {},
   "source": [
    "### Comparing Distribution Shapes for 2015 and 2016\n",
    "\n",
    "Our aim is to figure out whether there's any difference between Fandango's ratings for popular movies in 2015 and Fandango's popular movies in 2016. One way to go about is to analyze and compare the distributions of movie ratings for the two samples. "
   ]
  },
  {
   "cell_type": "code",
   "execution_count": 56,
   "metadata": {},
   "outputs": [
    {
     "data": {
      "image/png": "[encoded data removed]",
      "text/plain": [
       "<Figure size 576x432 with 1 Axes>"
      ]
     },
     "metadata": {},
     "output_type": "display_data"
    }
   ],
   "source": [
    "import matplotlib.pyplot as plt\n",
    "from numpy import arange\n",
    "%matplotlib inline\n",
    "plt.style.use('fivethirtyeight')\n",
    "\n",
    "fandango_2015['Fandango_Stars'].plot.kde(label='2015', legend=True, figsize=(8, 6))\n",
    "fandango_2016['fandango'].plot.kde(label='2016', legend=True)\n",
    "\n",
    "plt.title(\"Comparing distribution shapes for Fandango's ratings\\n (2015 vs 2016)\")\n",
    "plt.xlabel('Stars')\n",
    "plt.xlim(0,5)\n",
    "plt.xticks(arange(0,5.1,.5))\n",
    "plt.show()"
   ]
  },
  {
   "cell_type": "markdown",
   "metadata": {},
   "source": [
    "Two aspects are striking on the figure above:\n",
    "- Both distributions are strongly left-skewed.\n",
    "- The 2016 distribution is slightly shifted to the left relative to the 2015 distribution.\n",
    "\n",
    "The slight left shift of the 2016 distribution is very interesting for our analysis. It shows that ratings were slightly lower in 2016 compared to 2015."
   ]
  },
  {
   "cell_type": "markdown",
   "metadata": {},
   "source": [
    "### Comparing Relative Frequencies\n",
    "\n",
    "We want to examine the frequency tables of the two distributions to analyze some numbers. Let's normalize the tables and show percentages because the data sets have a different number of movies."
   ]
  },
  {
   "cell_type": "code",
   "execution_count": 57,
   "metadata": {},
   "outputs": [
    {
     "name": "stdout",
     "output_type": "stream",
     "text": [
      "\u001b[1;1m2015\n"
     ]
    },
    {
     "data": {
      "text/plain": [
       "3.0     8.527132\n",
       "3.5    17.829457\n",
       "4.0    28.682171\n",
       "4.5    37.984496\n",
       "5.0     6.976744\n",
       "Name: Fandango_Stars, dtype: float64"
      ]
     },
     "execution_count": 57,
     "metadata": {},
     "output_type": "execute_result"
    }
   ],
   "source": [
    "print('\\x1b[1;1m'+'2015' ) #bold text\n",
    "fandango_2015['Fandango_Stars'].value_counts(normalize=True).sort_index() * 100"
   ]
  },
  {
   "cell_type": "code",
   "execution_count": 58,
   "metadata": {},
   "outputs": [
    {
     "name": "stdout",
     "output_type": "stream",
     "text": [
      "\u001b[1;1m2016\n"
     ]
    },
    {
     "data": {
      "text/plain": [
       "2.5     3.141361\n",
       "3.0     7.329843\n",
       "3.5    24.083770\n",
       "4.0    40.314136\n",
       "4.5    24.607330\n",
       "5.0     0.523560\n",
       "Name: fandango, dtype: float64"
      ]
     },
     "execution_count": 58,
     "metadata": {},
     "output_type": "execute_result"
    }
   ],
   "source": [
    "print('\\x1b[1;1m'+'2016' ) #bold text\n",
    "fandango_2016['fandango'].value_counts(normalize=True).sort_index() * 100"
   ]
  },
  {
   "cell_type": "markdown",
   "metadata": {},
   "source": [
    "In 2016, very high ratings (4.5 and 5 stars) had significantly lower percentages compared to 2015. In 2016, under 1% had a perfect rating of 5 stars, compared to 2015 when the percentage was close to 7.\n",
    "\n",
    "The minimum rating is also lower in 2016 --2.5 instead of 3 stars in 2015.\n",
    "\n",
    "For 3.5 and 4 stars, percentages went up in 2016."
   ]
  },
  {
   "cell_type": "markdown",
   "metadata": {},
   "source": [
    "### Determining the Direction of the Change\n",
    "\n",
    "To get a more precise picture of the direction of the change, we'll take a couple of summary metrics."
   ]
  },
  {
   "cell_type": "code",
   "execution_count": 59,
   "metadata": {},
   "outputs": [
    {
     "data": {
      "text/html": [
       "<div>\n",
       "<style scoped>\n",
       "    .dataframe tbody tr th:only-of-type {\n",
       "        vertical-align: middle;\n",
       "    }\n",
       "\n",
       "    .dataframe tbody tr th {\n",
       "        vertical-align: top;\n",
       "    }\n",
       "\n",
       "    .dataframe thead th {\n",
       "        text-align: right;\n",
       "    }\n",
       "</style>\n",
       "<table border=\"1\" class=\"dataframe\">\n",
       "  <thead>\n",
       "    <tr style=\"text-align: right;\">\n",
       "      <th></th>\n",
       "      <th>2015</th>\n",
       "      <th>2016</th>\n",
       "    </tr>\n",
       "  </thead>\n",
       "  <tbody>\n",
       "    <tr>\n",
       "      <th>mean</th>\n",
       "      <td>4.085271</td>\n",
       "      <td>3.887435</td>\n",
       "    </tr>\n",
       "    <tr>\n",
       "      <th>median</th>\n",
       "      <td>4.000000</td>\n",
       "      <td>4.000000</td>\n",
       "    </tr>\n",
       "    <tr>\n",
       "      <th>mode</th>\n",
       "      <td>4.500000</td>\n",
       "      <td>4.000000</td>\n",
       "    </tr>\n",
       "  </tbody>\n",
       "</table>\n",
       "</div>"
      ],
      "text/plain": [
       "            2015      2016\n",
       "mean    4.085271  3.887435\n",
       "median  4.000000  4.000000\n",
       "mode    4.500000  4.000000"
      ]
     },
     "execution_count": 59,
     "metadata": {},
     "output_type": "execute_result"
    }
   ],
   "source": [
    "mean_2015 = fandango_2015['Fandango_Stars'].mean()\n",
    "mean_2016 = fandango_2016['fandango'].mean()\n",
    "\n",
    "median_2015 = fandango_2015['Fandango_Stars'].median()\n",
    "median_2016 = fandango_2016['fandango'].median()\n",
    "\n",
    "mode_2015 = fandango_2015['Fandango_Stars'].mode()[0]\n",
    "mode_2016 = fandango_2016['fandango'].mode()[0]\n",
    "\n",
    "summary = pd.DataFrame()\n",
    "summary['2015'] = [mean_2015, median_2015, mode_2015]\n",
    "summary['2016'] = [mean_2016, median_2016, mode_2016]\n",
    "summary.index = ['mean', 'median', 'mode']\n",
    "summary"
   ]
  },
  {
   "cell_type": "code",
   "execution_count": 60,
   "metadata": {},
   "outputs": [
    {
     "data": {
      "image/png": "[encoded data removed]",
      "text/plain": [
       "<Figure size 576x432 with 1 Axes>"
      ]
     },
     "metadata": {},
     "output_type": "display_data"
    }
   ],
   "source": [
    "plt.style.use('fivethirtyeight')\n",
    "summary['2015'].plot.bar(label='2015', align='center', color='brown', width=.2)\n",
    "summary['2016'].plot.bar(label='2016', align='edge', color='blue', width=.2, figsize=(8,6), rot=0)\n",
    "\n",
    "plt.title('Comparing summary statistics:\\n 2015 vs 2016')\n",
    "plt.ylim(0, 5.5)\n",
    "plt.yticks(arange(0,5.1,.5))\n",
    "plt.ylabel('Stars')\n",
    "plt.legend(loc='upper center', framealpha = 0)\n",
    "\n",
    "plt.show()"
   ]
  },
  {
   "cell_type": "markdown",
   "metadata": {},
   "source": [
    "The mean rating was lower in 2016 with approximately 0.2. This means a drop of almost 5% relative to the mean rating in 2015.\n"
   ]
  },
  {
   "cell_type": "code",
   "execution_count": 61,
   "metadata": {},
   "outputs": [
    {
     "data": {
      "text/plain": [
       "4.842683568951993"
      ]
     },
     "execution_count": 61,
     "metadata": {},
     "output_type": "execute_result"
    }
   ],
   "source": [
    "(summary.loc['mean'][0] - summary.loc['mean'][1]) / summary.loc['mean'][0] * 100"
   ]
  },
  {
   "cell_type": "markdown",
   "metadata": {},
   "source": [
    "### Conclusion\n",
    "\n",
    "Our analysis showed that there is indeed a slight difference between Fandango's ratings for popular movies in 2015 and Fandango's ratings for popular movies in 2016. We also determined that, on average, popular movies released in 2016 were rated lower on Fandango than popular movies released in 2015.\n",
    "\n",
    "We can not be completely sure what caused the change, but the chances are very high that it was caused by Fandango fixing the biased rating system after Hickey's analysis."
   ]
  }
 ],
 "metadata": {
  "kernelspec": {
   "display_name": "Python 3",
   "language": "python",
   "name": "python3"
  },
  "language_info": {
   "codemirror_mode": {
    "name": "ipython",
    "version": 3
   },
   "file_extension": ".py",
   "mimetype": "text/x-python",
   "name": "python",
   "nbconvert_exporter": "python",
   "pygments_lexer": "ipython3",
   "version": "3.6.5"
  }
 },
 "nbformat": 4,
 "nbformat_minor": 2
}
